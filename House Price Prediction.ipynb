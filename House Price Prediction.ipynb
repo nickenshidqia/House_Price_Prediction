{
 "cells": [
  {
   "cell_type": "markdown",
   "id": "08cac58e",
   "metadata": {},
   "source": [
    "# House Price Prediction"
   ]
  },
  {
   "cell_type": "code",
   "execution_count": 2,
   "id": "0731df78",
   "metadata": {},
   "outputs": [],
   "source": [
    "import pandas as pd\n",
    "import numpy as np\n",
    "import matplotlib.pyplot as plt\n",
    "import seaborn as sns\n",
    "\n",
    "# ignore warnings\n",
    "import warnings\n",
    "warnings.simplefilter('ignore')\n",
    "\n",
    "# display all row and column\n",
    "pd.set_option('display.max_rows', None)\n",
    "pd.set_option('display.max_columns', None)"
   ]
  },
  {
   "cell_type": "code",
   "execution_count": 47,
   "id": "20da04df",
   "metadata": {},
   "outputs": [],
   "source": [
    "# avoid scientific notation\n",
    "pd.set_option('display.float_format', lambda x: '%.2f' %x)"
   ]
  },
  {
   "cell_type": "markdown",
   "id": "d9e537ef",
   "metadata": {},
   "source": [
    "## 1. Model Evaluation"
   ]
  },
  {
   "cell_type": "code",
   "execution_count": 3,
   "id": "af3566d4",
   "metadata": {},
   "outputs": [],
   "source": [
    "dataset = pd.read_csv(r'D:\\Dokumen\\PELATIHAN UDEMY\\Data Science Bootcamp - Rakamin\\Week 13 - ML Evaluation & Supervised Learning/kc_house_data.csv')"
   ]
  },
  {
   "cell_type": "code",
   "execution_count": 4,
   "id": "83b17967",
   "metadata": {},
   "outputs": [
    {
     "data": {
      "text/html": [
       "<div>\n",
       "<style scoped>\n",
       "    .dataframe tbody tr th:only-of-type {\n",
       "        vertical-align: middle;\n",
       "    }\n",
       "\n",
       "    .dataframe tbody tr th {\n",
       "        vertical-align: top;\n",
       "    }\n",
       "\n",
       "    .dataframe thead th {\n",
       "        text-align: right;\n",
       "    }\n",
       "</style>\n",
       "<table border=\"1\" class=\"dataframe\">\n",
       "  <thead>\n",
       "    <tr style=\"text-align: right;\">\n",
       "      <th></th>\n",
       "      <th>id</th>\n",
       "      <th>date</th>\n",
       "      <th>price</th>\n",
       "      <th>bedrooms</th>\n",
       "      <th>bathrooms</th>\n",
       "      <th>sqft_living</th>\n",
       "      <th>sqft_lot</th>\n",
       "      <th>floors</th>\n",
       "      <th>waterfront</th>\n",
       "      <th>view</th>\n",
       "      <th>condition</th>\n",
       "      <th>grade</th>\n",
       "      <th>sqft_above</th>\n",
       "      <th>sqft_basement</th>\n",
       "      <th>yr_built</th>\n",
       "      <th>yr_renovated</th>\n",
       "      <th>zipcode</th>\n",
       "      <th>lat</th>\n",
       "      <th>long</th>\n",
       "      <th>sqft_living15</th>\n",
       "      <th>sqft_lot15</th>\n",
       "    </tr>\n",
       "  </thead>\n",
       "  <tbody>\n",
       "    <tr>\n",
       "      <th>0</th>\n",
       "      <td>7129300520</td>\n",
       "      <td>20141013T000000</td>\n",
       "      <td>221900.0</td>\n",
       "      <td>3</td>\n",
       "      <td>1.00</td>\n",
       "      <td>1180</td>\n",
       "      <td>5650</td>\n",
       "      <td>1.0</td>\n",
       "      <td>0</td>\n",
       "      <td>0</td>\n",
       "      <td>3</td>\n",
       "      <td>7</td>\n",
       "      <td>1180</td>\n",
       "      <td>0</td>\n",
       "      <td>1955</td>\n",
       "      <td>0</td>\n",
       "      <td>98178</td>\n",
       "      <td>47.5112</td>\n",
       "      <td>-122.257</td>\n",
       "      <td>1340</td>\n",
       "      <td>5650</td>\n",
       "    </tr>\n",
       "    <tr>\n",
       "      <th>1</th>\n",
       "      <td>6414100192</td>\n",
       "      <td>20141209T000000</td>\n",
       "      <td>538000.0</td>\n",
       "      <td>3</td>\n",
       "      <td>2.25</td>\n",
       "      <td>2570</td>\n",
       "      <td>7242</td>\n",
       "      <td>2.0</td>\n",
       "      <td>0</td>\n",
       "      <td>0</td>\n",
       "      <td>3</td>\n",
       "      <td>7</td>\n",
       "      <td>2170</td>\n",
       "      <td>400</td>\n",
       "      <td>1951</td>\n",
       "      <td>1991</td>\n",
       "      <td>98125</td>\n",
       "      <td>47.7210</td>\n",
       "      <td>-122.319</td>\n",
       "      <td>1690</td>\n",
       "      <td>7639</td>\n",
       "    </tr>\n",
       "    <tr>\n",
       "      <th>2</th>\n",
       "      <td>5631500400</td>\n",
       "      <td>20150225T000000</td>\n",
       "      <td>180000.0</td>\n",
       "      <td>2</td>\n",
       "      <td>1.00</td>\n",
       "      <td>770</td>\n",
       "      <td>10000</td>\n",
       "      <td>1.0</td>\n",
       "      <td>0</td>\n",
       "      <td>0</td>\n",
       "      <td>3</td>\n",
       "      <td>6</td>\n",
       "      <td>770</td>\n",
       "      <td>0</td>\n",
       "      <td>1933</td>\n",
       "      <td>0</td>\n",
       "      <td>98028</td>\n",
       "      <td>47.7379</td>\n",
       "      <td>-122.233</td>\n",
       "      <td>2720</td>\n",
       "      <td>8062</td>\n",
       "    </tr>\n",
       "  </tbody>\n",
       "</table>\n",
       "</div>"
      ],
      "text/plain": [
       "           id             date     price  bedrooms  bathrooms  sqft_living  \\\n",
       "0  7129300520  20141013T000000  221900.0         3       1.00         1180   \n",
       "1  6414100192  20141209T000000  538000.0         3       2.25         2570   \n",
       "2  5631500400  20150225T000000  180000.0         2       1.00          770   \n",
       "\n",
       "   sqft_lot  floors  waterfront  view  condition  grade  sqft_above  \\\n",
       "0      5650     1.0           0     0          3      7        1180   \n",
       "1      7242     2.0           0     0          3      7        2170   \n",
       "2     10000     1.0           0     0          3      6         770   \n",
       "\n",
       "   sqft_basement  yr_built  yr_renovated  zipcode      lat     long  \\\n",
       "0              0      1955             0    98178  47.5112 -122.257   \n",
       "1            400      1951          1991    98125  47.7210 -122.319   \n",
       "2              0      1933             0    98028  47.7379 -122.233   \n",
       "\n",
       "   sqft_living15  sqft_lot15  \n",
       "0           1340        5650  \n",
       "1           1690        7639  \n",
       "2           2720        8062  "
      ]
     },
     "execution_count": 4,
     "metadata": {},
     "output_type": "execute_result"
    }
   ],
   "source": [
    "dataset.head(3)"
   ]
  },
  {
   "cell_type": "code",
   "execution_count": 5,
   "id": "1a2c8a00",
   "metadata": {},
   "outputs": [],
   "source": [
    "X = dataset[['sqft_living', 'bedrooms']]\n",
    "y = dataset['price']"
   ]
  },
  {
   "cell_type": "markdown",
   "id": "9538c918",
   "metadata": {},
   "source": [
    "### Train Test Split"
   ]
  },
  {
   "cell_type": "code",
   "execution_count": 6,
   "id": "5aedfa75",
   "metadata": {},
   "outputs": [],
   "source": [
    "from sklearn.model_selection import train_test_split\n",
    "\n",
    "X_train, X_test, y_train, y_test = train_test_split(X, y, test_size = 0.2, random_state = 42)"
   ]
  },
  {
   "cell_type": "code",
   "execution_count": 7,
   "id": "07c9a8c0",
   "metadata": {},
   "outputs": [
    {
     "data": {
      "text/plain": [
       "(21613, 2)"
      ]
     },
     "execution_count": 7,
     "metadata": {},
     "output_type": "execute_result"
    }
   ],
   "source": [
    "X.shape"
   ]
  },
  {
   "cell_type": "code",
   "execution_count": 8,
   "id": "677451ae",
   "metadata": {},
   "outputs": [
    {
     "data": {
      "text/plain": [
       "(17290, 2)"
      ]
     },
     "execution_count": 8,
     "metadata": {},
     "output_type": "execute_result"
    }
   ],
   "source": [
    "X_train.shape"
   ]
  },
  {
   "cell_type": "code",
   "execution_count": 9,
   "id": "c823f3f8",
   "metadata": {},
   "outputs": [
    {
     "data": {
      "text/plain": [
       "(4323, 2)"
      ]
     },
     "execution_count": 9,
     "metadata": {},
     "output_type": "execute_result"
    }
   ],
   "source": [
    "X_test.shape"
   ]
  },
  {
   "cell_type": "markdown",
   "id": "5bc5a921",
   "metadata": {},
   "source": [
    "## KFold"
   ]
  },
  {
   "cell_type": "code",
   "execution_count": 10,
   "id": "58d3f7eb",
   "metadata": {},
   "outputs": [],
   "source": [
    "X = dataset[['sqft_living', 'bedrooms']]\n",
    "y = dataset['price']"
   ]
  },
  {
   "cell_type": "code",
   "execution_count": 11,
   "id": "12b21c3b",
   "metadata": {},
   "outputs": [
    {
     "data": {
      "text/plain": [
       "3"
      ]
     },
     "execution_count": 11,
     "metadata": {},
     "output_type": "execute_result"
    }
   ],
   "source": [
    "from sklearn.model_selection import KFold\n",
    "\n",
    "# Create a KFold cross-validation strategy with 3 folds\n",
    "kf = KFold(n_splits=3)\n",
    "kf.get_n_splits(X)"
   ]
  },
  {
   "cell_type": "code",
   "execution_count": 12,
   "id": "44a4fdc6",
   "metadata": {},
   "outputs": [
    {
     "data": {
      "text/plain": [
       "<generator object _BaseKFold.split at 0x0000023402499900>"
      ]
     },
     "execution_count": 12,
     "metadata": {},
     "output_type": "execute_result"
    }
   ],
   "source": [
    "kf.split(X)"
   ]
  },
  {
   "cell_type": "code",
   "execution_count": 13,
   "id": "eb2ea1bd",
   "metadata": {},
   "outputs": [
    {
     "name": "stdout",
     "output_type": "stream",
     "text": [
      "TRAIN: [ 7205  7206  7207 ... 21610 21611 21612] TEST: [   0    1    2 ... 7202 7203 7204]\n",
      "TRAIN: [    0     1     2 ... 21610 21611 21612] TEST: [ 7205  7206  7207 ... 14406 14407 14408]\n",
      "TRAIN: [    0     1     2 ... 14406 14407 14408] TEST: [14409 14410 14411 ... 21610 21611 21612]\n"
     ]
    }
   ],
   "source": [
    "for train_index, test_index in kf.split(X):\n",
    "    print('TRAIN:', train_index, 'TEST:', test_index)\n",
    "    \n",
    "    X_train, X_test = X.iloc[train_index], X.iloc[test_index]\n",
    "    y_train, y_test = y.iloc[train_index], y.iloc[test_index]"
   ]
  },
  {
   "cell_type": "code",
   "execution_count": 14,
   "id": "972c3255",
   "metadata": {},
   "outputs": [
    {
     "data": {
      "text/plain": [
       "(14409, 2)"
      ]
     },
     "execution_count": 14,
     "metadata": {},
     "output_type": "execute_result"
    }
   ],
   "source": [
    "X_train.shape"
   ]
  },
  {
   "cell_type": "code",
   "execution_count": 15,
   "id": "2bc59a32",
   "metadata": {},
   "outputs": [
    {
     "data": {
      "text/plain": [
       "(7204, 2)"
      ]
     },
     "execution_count": 15,
     "metadata": {},
     "output_type": "execute_result"
    }
   ],
   "source": [
    "X_test.shape"
   ]
  },
  {
   "cell_type": "code",
   "execution_count": 16,
   "id": "be2f632c",
   "metadata": {},
   "outputs": [
    {
     "data": {
      "text/plain": [
       "(21613, 2)"
      ]
     },
     "execution_count": 16,
     "metadata": {},
     "output_type": "execute_result"
    }
   ],
   "source": [
    "X.shape"
   ]
  },
  {
   "cell_type": "markdown",
   "id": "a1637e44",
   "metadata": {},
   "source": [
    "### Cross Validation in Test Set Only\n",
    "- The `cross_val_score` function in scikit-learn is primarily designed to compute the test scores during cross-validation and does not provide training scores by default. It is simpler and more focused on obtaining a single performance metric for each fold on the test data."
   ]
  },
  {
   "cell_type": "code",
   "execution_count": 17,
   "id": "860d5e9b",
   "metadata": {},
   "outputs": [
    {
     "data": {
      "text/plain": [
       "0.5060359811221147"
      ]
     },
     "execution_count": 17,
     "metadata": {},
     "output_type": "execute_result"
    }
   ],
   "source": [
    "from sklearn.model_selection import cross_val_score\n",
    "from sklearn.linear_model import LinearRegression\n",
    "\n",
    "model = LinearRegression()\n",
    "result = cross_val_score(model, X, y, cv=kf, scoring='r2')\n",
    "result.mean()"
   ]
  },
  {
   "cell_type": "markdown",
   "id": "57d7388b",
   "metadata": {},
   "source": [
    "### Cross Validation in Train Set & Test Set"
   ]
  },
  {
   "cell_type": "code",
   "execution_count": 18,
   "id": "c056fcd6",
   "metadata": {},
   "outputs": [],
   "source": [
    "from sklearn.model_selection import cross_validate\n",
    "from sklearn.linear_model import LinearRegression\n",
    "\n",
    "model = LinearRegression()\n",
    "score = cross_validate(model, X, y, cv=kf, scoring = 'r2', return_train_score=True)"
   ]
  },
  {
   "cell_type": "code",
   "execution_count": 19,
   "id": "a7917312",
   "metadata": {},
   "outputs": [
    {
     "name": "stdout",
     "output_type": "stream",
     "text": [
      "{'fit_time': array([0.00509238, 0.00400019, 0.00466633]), 'score_time': array([0.00190616, 0.00076699, 0.00200367]), 'test_score': array([0.50396601, 0.50698642, 0.50715551]), 'train_score': array([0.50817054, 0.50634356, 0.50579887])}\n"
     ]
    }
   ],
   "source": [
    "print(score)"
   ]
  },
  {
   "cell_type": "code",
   "execution_count": 20,
   "id": "5d46c85b",
   "metadata": {
    "scrolled": true
   },
   "outputs": [
    {
     "name": "stdout",
     "output_type": "stream",
     "text": [
      "r2(train):  0.5067709916748319\n",
      "r2(test): 0.5060359811221147\n"
     ]
    }
   ],
   "source": [
    "print('r2(train): ', str(score['train_score'].mean()))\n",
    "print('r2(test):', str(score['test_score'].mean()))"
   ]
  },
  {
   "cell_type": "markdown",
   "id": "d76326a2",
   "metadata": {},
   "source": [
    "## 2. Supervised Learning - Regression\n",
    "Notes :\n",
    "- Use Error (MAE, RMSE) for metrics in regression, not r2_score because it could misleading to error\n",
    "- r2_score only additional metrics"
   ]
  },
  {
   "cell_type": "code",
   "execution_count": 21,
   "id": "d9d3feb6",
   "metadata": {},
   "outputs": [
    {
     "data": {
      "text/html": [
       "<div>\n",
       "<style scoped>\n",
       "    .dataframe tbody tr th:only-of-type {\n",
       "        vertical-align: middle;\n",
       "    }\n",
       "\n",
       "    .dataframe tbody tr th {\n",
       "        vertical-align: top;\n",
       "    }\n",
       "\n",
       "    .dataframe thead th {\n",
       "        text-align: right;\n",
       "    }\n",
       "</style>\n",
       "<table border=\"1\" class=\"dataframe\">\n",
       "  <thead>\n",
       "    <tr style=\"text-align: right;\">\n",
       "      <th></th>\n",
       "      <th>id</th>\n",
       "      <th>date</th>\n",
       "      <th>price</th>\n",
       "      <th>bedrooms</th>\n",
       "      <th>bathrooms</th>\n",
       "      <th>sqft_living</th>\n",
       "      <th>sqft_lot</th>\n",
       "      <th>floors</th>\n",
       "      <th>waterfront</th>\n",
       "      <th>view</th>\n",
       "      <th>condition</th>\n",
       "      <th>grade</th>\n",
       "      <th>sqft_above</th>\n",
       "      <th>sqft_basement</th>\n",
       "      <th>yr_built</th>\n",
       "      <th>yr_renovated</th>\n",
       "      <th>zipcode</th>\n",
       "      <th>lat</th>\n",
       "      <th>long</th>\n",
       "      <th>sqft_living15</th>\n",
       "      <th>sqft_lot15</th>\n",
       "    </tr>\n",
       "  </thead>\n",
       "  <tbody>\n",
       "    <tr>\n",
       "      <th>0</th>\n",
       "      <td>7129300520</td>\n",
       "      <td>20141013T000000</td>\n",
       "      <td>221900.0</td>\n",
       "      <td>3</td>\n",
       "      <td>1.00</td>\n",
       "      <td>1180</td>\n",
       "      <td>5650</td>\n",
       "      <td>1.0</td>\n",
       "      <td>0</td>\n",
       "      <td>0</td>\n",
       "      <td>3</td>\n",
       "      <td>7</td>\n",
       "      <td>1180</td>\n",
       "      <td>0</td>\n",
       "      <td>1955</td>\n",
       "      <td>0</td>\n",
       "      <td>98178</td>\n",
       "      <td>47.5112</td>\n",
       "      <td>-122.257</td>\n",
       "      <td>1340</td>\n",
       "      <td>5650</td>\n",
       "    </tr>\n",
       "    <tr>\n",
       "      <th>1</th>\n",
       "      <td>6414100192</td>\n",
       "      <td>20141209T000000</td>\n",
       "      <td>538000.0</td>\n",
       "      <td>3</td>\n",
       "      <td>2.25</td>\n",
       "      <td>2570</td>\n",
       "      <td>7242</td>\n",
       "      <td>2.0</td>\n",
       "      <td>0</td>\n",
       "      <td>0</td>\n",
       "      <td>3</td>\n",
       "      <td>7</td>\n",
       "      <td>2170</td>\n",
       "      <td>400</td>\n",
       "      <td>1951</td>\n",
       "      <td>1991</td>\n",
       "      <td>98125</td>\n",
       "      <td>47.7210</td>\n",
       "      <td>-122.319</td>\n",
       "      <td>1690</td>\n",
       "      <td>7639</td>\n",
       "    </tr>\n",
       "    <tr>\n",
       "      <th>2</th>\n",
       "      <td>5631500400</td>\n",
       "      <td>20150225T000000</td>\n",
       "      <td>180000.0</td>\n",
       "      <td>2</td>\n",
       "      <td>1.00</td>\n",
       "      <td>770</td>\n",
       "      <td>10000</td>\n",
       "      <td>1.0</td>\n",
       "      <td>0</td>\n",
       "      <td>0</td>\n",
       "      <td>3</td>\n",
       "      <td>6</td>\n",
       "      <td>770</td>\n",
       "      <td>0</td>\n",
       "      <td>1933</td>\n",
       "      <td>0</td>\n",
       "      <td>98028</td>\n",
       "      <td>47.7379</td>\n",
       "      <td>-122.233</td>\n",
       "      <td>2720</td>\n",
       "      <td>8062</td>\n",
       "    </tr>\n",
       "  </tbody>\n",
       "</table>\n",
       "</div>"
      ],
      "text/plain": [
       "           id             date     price  bedrooms  bathrooms  sqft_living  \\\n",
       "0  7129300520  20141013T000000  221900.0         3       1.00         1180   \n",
       "1  6414100192  20141209T000000  538000.0         3       2.25         2570   \n",
       "2  5631500400  20150225T000000  180000.0         2       1.00          770   \n",
       "\n",
       "   sqft_lot  floors  waterfront  view  condition  grade  sqft_above  \\\n",
       "0      5650     1.0           0     0          3      7        1180   \n",
       "1      7242     2.0           0     0          3      7        2170   \n",
       "2     10000     1.0           0     0          3      6         770   \n",
       "\n",
       "   sqft_basement  yr_built  yr_renovated  zipcode      lat     long  \\\n",
       "0              0      1955             0    98178  47.5112 -122.257   \n",
       "1            400      1951          1991    98125  47.7210 -122.319   \n",
       "2              0      1933             0    98028  47.7379 -122.233   \n",
       "\n",
       "   sqft_living15  sqft_lot15  \n",
       "0           1340        5650  \n",
       "1           1690        7639  \n",
       "2           2720        8062  "
      ]
     },
     "execution_count": 21,
     "metadata": {},
     "output_type": "execute_result"
    }
   ],
   "source": [
    "df = dataset.copy()\n",
    "df.head(3)"
   ]
  },
  {
   "cell_type": "markdown",
   "id": "77a91b20",
   "metadata": {},
   "source": [
    "### Train Test Split"
   ]
  },
  {
   "cell_type": "code",
   "execution_count": 22,
   "id": "69144671",
   "metadata": {},
   "outputs": [],
   "source": [
    "X = df.drop(columns=['id', 'date', 'price'])\n",
    "y = df['price']"
   ]
  },
  {
   "cell_type": "code",
   "execution_count": 23,
   "id": "f9d4a3ef",
   "metadata": {},
   "outputs": [],
   "source": [
    "X_train, X_test, y_train, y_test = train_test_split(X, y, test_size=0.3, random_state=42)"
   ]
  },
  {
   "cell_type": "markdown",
   "id": "862cec61",
   "metadata": {},
   "source": [
    "### Check if features and target is linear"
   ]
  },
  {
   "cell_type": "code",
   "execution_count": 25,
   "id": "dc434991",
   "metadata": {},
   "outputs": [
    {
     "data": {
      "text/plain": [
       "<Figure size 700x900 with 0 Axes>"
      ]
     },
     "metadata": {},
     "output_type": "display_data"
    },
    {
     "data": {
      "image/png": "[encoded data removed]",
      "text/plain": [
       "<Figure size 4500x250 with 18 Axes>"
      ]
     },
     "metadata": {},
     "output_type": "display_data"
    }
   ],
   "source": [
    "sns.pairplot(df, x_vars=X.columns, y_vars='price', kind='scatter', diag_kind='hist')\n",
    "plt.show()"
   ]
  },
  {
   "cell_type": "markdown",
   "id": "7d613054",
   "metadata": {},
   "source": [
    "### Preprocessing"
   ]
  },
  {
   "cell_type": "code",
   "execution_count": 26,
   "id": "461611aa",
   "metadata": {},
   "outputs": [],
   "source": [
    "from sklearn.preprocessing import StandardScaler\n",
    "ss = StandardScaler()"
   ]
  },
  {
   "cell_type": "code",
   "execution_count": 27,
   "id": "00908a6d",
   "metadata": {},
   "outputs": [],
   "source": [
    "numerical = X.select_dtypes(include = np.number)\n",
    "categorical = X.select_dtypes(include = ['object'])"
   ]
  },
  {
   "cell_type": "code",
   "execution_count": 28,
   "id": "5f54f00b",
   "metadata": {},
   "outputs": [
    {
     "data": {
      "text/plain": [
       "Index([], dtype='object')"
      ]
     },
     "execution_count": 28,
     "metadata": {},
     "output_type": "execute_result"
    }
   ],
   "source": [
    "categorical.columns"
   ]
  },
  {
   "cell_type": "code",
   "execution_count": 29,
   "id": "bb094c2e",
   "metadata": {},
   "outputs": [],
   "source": [
    "numerical_list = numerical.columns.to_list()"
   ]
  },
  {
   "cell_type": "code",
   "execution_count": 30,
   "id": "31ba1f4d",
   "metadata": {},
   "outputs": [
    {
     "data": {
      "text/html": [
       "<div>\n",
       "<style scoped>\n",
       "    .dataframe tbody tr th:only-of-type {\n",
       "        vertical-align: middle;\n",
       "    }\n",
       "\n",
       "    .dataframe tbody tr th {\n",
       "        vertical-align: top;\n",
       "    }\n",
       "\n",
       "    .dataframe thead th {\n",
       "        text-align: right;\n",
       "    }\n",
       "</style>\n",
       "<table border=\"1\" class=\"dataframe\">\n",
       "  <thead>\n",
       "    <tr style=\"text-align: right;\">\n",
       "      <th></th>\n",
       "      <th>bedrooms</th>\n",
       "      <th>bathrooms</th>\n",
       "      <th>sqft_living</th>\n",
       "      <th>sqft_lot</th>\n",
       "      <th>floors</th>\n",
       "      <th>waterfront</th>\n",
       "      <th>view</th>\n",
       "      <th>condition</th>\n",
       "      <th>grade</th>\n",
       "      <th>sqft_above</th>\n",
       "      <th>sqft_basement</th>\n",
       "      <th>yr_built</th>\n",
       "      <th>yr_renovated</th>\n",
       "      <th>zipcode</th>\n",
       "      <th>lat</th>\n",
       "      <th>long</th>\n",
       "      <th>sqft_living15</th>\n",
       "      <th>sqft_lot15</th>\n",
       "    </tr>\n",
       "  </thead>\n",
       "  <tbody>\n",
       "    <tr>\n",
       "      <th>167</th>\n",
       "      <td>4</td>\n",
       "      <td>2.50</td>\n",
       "      <td>2680</td>\n",
       "      <td>4499</td>\n",
       "      <td>2.0</td>\n",
       "      <td>0</td>\n",
       "      <td>0</td>\n",
       "      <td>3</td>\n",
       "      <td>9</td>\n",
       "      <td>2680</td>\n",
       "      <td>0</td>\n",
       "      <td>1999</td>\n",
       "      <td>0</td>\n",
       "      <td>98006</td>\n",
       "      <td>47.5650</td>\n",
       "      <td>-122.125</td>\n",
       "      <td>2920</td>\n",
       "      <td>4500</td>\n",
       "    </tr>\n",
       "    <tr>\n",
       "      <th>12412</th>\n",
       "      <td>4</td>\n",
       "      <td>1.75</td>\n",
       "      <td>2340</td>\n",
       "      <td>5080</td>\n",
       "      <td>1.0</td>\n",
       "      <td>0</td>\n",
       "      <td>0</td>\n",
       "      <td>5</td>\n",
       "      <td>7</td>\n",
       "      <td>1170</td>\n",
       "      <td>1170</td>\n",
       "      <td>1924</td>\n",
       "      <td>0</td>\n",
       "      <td>98115</td>\n",
       "      <td>47.6746</td>\n",
       "      <td>-122.320</td>\n",
       "      <td>1270</td>\n",
       "      <td>3270</td>\n",
       "    </tr>\n",
       "  </tbody>\n",
       "</table>\n",
       "</div>"
      ],
      "text/plain": [
       "       bedrooms  bathrooms  sqft_living  sqft_lot  floors  waterfront  view  \\\n",
       "167           4       2.50         2680      4499     2.0           0     0   \n",
       "12412         4       1.75         2340      5080     1.0           0     0   \n",
       "\n",
       "       condition  grade  sqft_above  sqft_basement  yr_built  yr_renovated  \\\n",
       "167            3      9        2680              0      1999             0   \n",
       "12412          5      7        1170           1170      1924             0   \n",
       "\n",
       "       zipcode      lat     long  sqft_living15  sqft_lot15  \n",
       "167      98006  47.5650 -122.125           2920        4500  \n",
       "12412    98115  47.6746 -122.320           1270        3270  "
      ]
     },
     "execution_count": 30,
     "metadata": {},
     "output_type": "execute_result"
    }
   ],
   "source": [
    "X_train.head(2)"
   ]
  },
  {
   "cell_type": "code",
   "execution_count": 31,
   "id": "d9810d77",
   "metadata": {},
   "outputs": [],
   "source": [
    "for n in numerical_list:\n",
    "    scaler = ss.fit(X_train[[n]])\n",
    "    X_train[n] = scaler.transform(X_train[[n]])\n",
    "    X_test[n] = scaler.transform(X_test[[n]])"
   ]
  },
  {
   "cell_type": "code",
   "execution_count": 32,
   "id": "7f6664ba",
   "metadata": {},
   "outputs": [
    {
     "data": {
      "text/html": [
       "<div>\n",
       "<style scoped>\n",
       "    .dataframe tbody tr th:only-of-type {\n",
       "        vertical-align: middle;\n",
       "    }\n",
       "\n",
       "    .dataframe tbody tr th {\n",
       "        vertical-align: top;\n",
       "    }\n",
       "\n",
       "    .dataframe thead th {\n",
       "        text-align: right;\n",
       "    }\n",
       "</style>\n",
       "<table border=\"1\" class=\"dataframe\">\n",
       "  <thead>\n",
       "    <tr style=\"text-align: right;\">\n",
       "      <th></th>\n",
       "      <th>bedrooms</th>\n",
       "      <th>bathrooms</th>\n",
       "      <th>sqft_living</th>\n",
       "      <th>sqft_lot</th>\n",
       "      <th>floors</th>\n",
       "      <th>waterfront</th>\n",
       "      <th>view</th>\n",
       "      <th>condition</th>\n",
       "      <th>grade</th>\n",
       "      <th>sqft_above</th>\n",
       "      <th>sqft_basement</th>\n",
       "      <th>yr_built</th>\n",
       "      <th>yr_renovated</th>\n",
       "      <th>zipcode</th>\n",
       "      <th>lat</th>\n",
       "      <th>long</th>\n",
       "      <th>sqft_living15</th>\n",
       "      <th>sqft_lot15</th>\n",
       "    </tr>\n",
       "  </thead>\n",
       "  <tbody>\n",
       "    <tr>\n",
       "      <th>167</th>\n",
       "      <td>0.679213</td>\n",
       "      <td>0.506735</td>\n",
       "      <td>0.665180</td>\n",
       "      <td>-0.266061</td>\n",
       "      <td>0.920075</td>\n",
       "      <td>-0.084397</td>\n",
       "      <td>-0.304826</td>\n",
       "      <td>-0.625889</td>\n",
       "      <td>1.147615</td>\n",
       "      <td>1.080196</td>\n",
       "      <td>-0.654856</td>\n",
       "      <td>0.946857</td>\n",
       "      <td>-0.207578</td>\n",
       "      <td>-1.350033</td>\n",
       "      <td>0.031818</td>\n",
       "      <td>0.637889</td>\n",
       "      <td>1.371813</td>\n",
       "      <td>-0.304804</td>\n",
       "    </tr>\n",
       "    <tr>\n",
       "      <th>12412</th>\n",
       "      <td>0.679213</td>\n",
       "      <td>-0.472371</td>\n",
       "      <td>0.292233</td>\n",
       "      <td>-0.251329</td>\n",
       "      <td>-0.921292</td>\n",
       "      <td>-0.084397</td>\n",
       "      <td>-0.304826</td>\n",
       "      <td>2.444997</td>\n",
       "      <td>-0.556657</td>\n",
       "      <td>-0.744979</td>\n",
       "      <td>2.012453</td>\n",
       "      <td>-1.607372</td>\n",
       "      <td>-0.207578</td>\n",
       "      <td>0.693242</td>\n",
       "      <td>0.822812</td>\n",
       "      <td>-0.755823</td>\n",
       "      <td>-1.041654</td>\n",
       "      <td>-0.349846</td>\n",
       "    </tr>\n",
       "    <tr>\n",
       "      <th>7691</th>\n",
       "      <td>0.679213</td>\n",
       "      <td>0.180367</td>\n",
       "      <td>0.127697</td>\n",
       "      <td>-0.151429</td>\n",
       "      <td>0.920075</td>\n",
       "      <td>-0.084397</td>\n",
       "      <td>-0.304826</td>\n",
       "      <td>-0.625889</td>\n",
       "      <td>0.295479</td>\n",
       "      <td>0.487920</td>\n",
       "      <td>-0.654856</td>\n",
       "      <td>0.231673</td>\n",
       "      <td>-0.207578</td>\n",
       "      <td>-0.862646</td>\n",
       "      <td>-1.345204</td>\n",
       "      <td>-0.498523</td>\n",
       "      <td>0.274782</td>\n",
       "      <td>-0.161990</td>\n",
       "    </tr>\n",
       "  </tbody>\n",
       "</table>\n",
       "</div>"
      ],
      "text/plain": [
       "       bedrooms  bathrooms  sqft_living  sqft_lot    floors  waterfront  \\\n",
       "167    0.679213   0.506735     0.665180 -0.266061  0.920075   -0.084397   \n",
       "12412  0.679213  -0.472371     0.292233 -0.251329 -0.921292   -0.084397   \n",
       "7691   0.679213   0.180367     0.127697 -0.151429  0.920075   -0.084397   \n",
       "\n",
       "           view  condition     grade  sqft_above  sqft_basement  yr_built  \\\n",
       "167   -0.304826  -0.625889  1.147615    1.080196      -0.654856  0.946857   \n",
       "12412 -0.304826   2.444997 -0.556657   -0.744979       2.012453 -1.607372   \n",
       "7691  -0.304826  -0.625889  0.295479    0.487920      -0.654856  0.231673   \n",
       "\n",
       "       yr_renovated   zipcode       lat      long  sqft_living15  sqft_lot15  \n",
       "167       -0.207578 -1.350033  0.031818  0.637889       1.371813   -0.304804  \n",
       "12412     -0.207578  0.693242  0.822812 -0.755823      -1.041654   -0.349846  \n",
       "7691      -0.207578 -0.862646 -1.345204 -0.498523       0.274782   -0.161990  "
      ]
     },
     "execution_count": 32,
     "metadata": {},
     "output_type": "execute_result"
    }
   ],
   "source": [
    "X_train.head(3)"
   ]
  },
  {
   "cell_type": "code",
   "execution_count": 33,
   "id": "a1fe443c",
   "metadata": {},
   "outputs": [
    {
     "data": {
      "text/html": [
       "<div>\n",
       "<style scoped>\n",
       "    .dataframe tbody tr th:only-of-type {\n",
       "        vertical-align: middle;\n",
       "    }\n",
       "\n",
       "    .dataframe tbody tr th {\n",
       "        vertical-align: top;\n",
       "    }\n",
       "\n",
       "    .dataframe thead th {\n",
       "        text-align: right;\n",
       "    }\n",
       "</style>\n",
       "<table border=\"1\" class=\"dataframe\">\n",
       "  <thead>\n",
       "    <tr style=\"text-align: right;\">\n",
       "      <th></th>\n",
       "      <th>bedrooms</th>\n",
       "      <th>bathrooms</th>\n",
       "      <th>sqft_living</th>\n",
       "      <th>sqft_lot</th>\n",
       "      <th>floors</th>\n",
       "      <th>waterfront</th>\n",
       "      <th>view</th>\n",
       "      <th>condition</th>\n",
       "      <th>grade</th>\n",
       "      <th>sqft_above</th>\n",
       "      <th>sqft_basement</th>\n",
       "      <th>yr_built</th>\n",
       "      <th>yr_renovated</th>\n",
       "      <th>zipcode</th>\n",
       "      <th>lat</th>\n",
       "      <th>long</th>\n",
       "      <th>sqft_living15</th>\n",
       "      <th>sqft_lot15</th>\n",
       "    </tr>\n",
       "  </thead>\n",
       "  <tbody>\n",
       "    <tr>\n",
       "      <th>735</th>\n",
       "      <td>0.679213</td>\n",
       "      <td>0.180367</td>\n",
       "      <td>-0.003931</td>\n",
       "      <td>-0.154649</td>\n",
       "      <td>0.920075</td>\n",
       "      <td>-0.084397</td>\n",
       "      <td>-0.304826</td>\n",
       "      <td>0.909554</td>\n",
       "      <td>0.295479</td>\n",
       "      <td>0.342873</td>\n",
       "      <td>-0.654856</td>\n",
       "      <td>0.504124</td>\n",
       "      <td>-0.207578</td>\n",
       "      <td>-0.375260</td>\n",
       "      <td>-0.878979</td>\n",
       "      <td>0.373441</td>\n",
       "      <td>0.596578</td>\n",
       "      <td>-0.187623</td>\n",
       "    </tr>\n",
       "    <tr>\n",
       "      <th>2830</th>\n",
       "      <td>1.750055</td>\n",
       "      <td>1.159473</td>\n",
       "      <td>0.906499</td>\n",
       "      <td>-0.209493</td>\n",
       "      <td>-0.921292</td>\n",
       "      <td>-0.084397</td>\n",
       "      <td>-0.304826</td>\n",
       "      <td>2.444997</td>\n",
       "      <td>0.295479</td>\n",
       "      <td>0.052779</td>\n",
       "      <td>1.784478</td>\n",
       "      <td>0.197617</td>\n",
       "      <td>-0.207578</td>\n",
       "      <td>0.693242</td>\n",
       "      <td>0.850237</td>\n",
       "      <td>-0.505670</td>\n",
       "      <td>0.567324</td>\n",
       "      <td>-0.239512</td>\n",
       "    </tr>\n",
       "    <tr>\n",
       "      <th>4106</th>\n",
       "      <td>0.679213</td>\n",
       "      <td>0.506735</td>\n",
       "      <td>1.860804</td>\n",
       "      <td>-0.103938</td>\n",
       "      <td>0.920075</td>\n",
       "      <td>-0.084397</td>\n",
       "      <td>2.326682</td>\n",
       "      <td>-0.625889</td>\n",
       "      <td>2.851888</td>\n",
       "      <td>2.397706</td>\n",
       "      <td>-0.654856</td>\n",
       "      <td>0.878744</td>\n",
       "      <td>-0.207578</td>\n",
       "      <td>-1.350033</td>\n",
       "      <td>0.028931</td>\n",
       "      <td>0.609300</td>\n",
       "      <td>2.527352</td>\n",
       "      <td>-0.114934</td>\n",
       "    </tr>\n",
       "  </tbody>\n",
       "</table>\n",
       "</div>"
      ],
      "text/plain": [
       "      bedrooms  bathrooms  sqft_living  sqft_lot    floors  waterfront  \\\n",
       "735   0.679213   0.180367    -0.003931 -0.154649  0.920075   -0.084397   \n",
       "2830  1.750055   1.159473     0.906499 -0.209493 -0.921292   -0.084397   \n",
       "4106  0.679213   0.506735     1.860804 -0.103938  0.920075   -0.084397   \n",
       "\n",
       "          view  condition     grade  sqft_above  sqft_basement  yr_built  \\\n",
       "735  -0.304826   0.909554  0.295479    0.342873      -0.654856  0.504124   \n",
       "2830 -0.304826   2.444997  0.295479    0.052779       1.784478  0.197617   \n",
       "4106  2.326682  -0.625889  2.851888    2.397706      -0.654856  0.878744   \n",
       "\n",
       "      yr_renovated   zipcode       lat      long  sqft_living15  sqft_lot15  \n",
       "735      -0.207578 -0.375260 -0.878979  0.373441       0.596578   -0.187623  \n",
       "2830     -0.207578  0.693242  0.850237 -0.505670       0.567324   -0.239512  \n",
       "4106     -0.207578 -1.350033  0.028931  0.609300       2.527352   -0.114934  "
      ]
     },
     "execution_count": 33,
     "metadata": {},
     "output_type": "execute_result"
    }
   ],
   "source": [
    "X_test.head(3)"
   ]
  },
  {
   "cell_type": "markdown",
   "id": "7aace944",
   "metadata": {},
   "source": [
    "### Modelling (Linear Algorithm)"
   ]
  },
  {
   "cell_type": "markdown",
   "id": "0c36a20a",
   "metadata": {},
   "source": [
    "#### Train Linear Regression"
   ]
  },
  {
   "cell_type": "code",
   "execution_count": 62,
   "id": "3fa17e09",
   "metadata": {},
   "outputs": [],
   "source": [
    "from sklearn.linear_model import LinearRegression\n",
    "regressor = LinearRegression()\n",
    "regressor.fit(X_train, y_train)\n",
    "\n",
    "y_pred = regressor.predict(X_test)"
   ]
  },
  {
   "cell_type": "markdown",
   "id": "01f473e9",
   "metadata": {},
   "source": [
    "#### Intercept & Coefficient (Slope)\n",
    "Coefficient could be interpret as feature importance in linear regression"
   ]
  },
  {
   "cell_type": "code",
   "execution_count": 64,
   "id": "5e417ffa",
   "metadata": {
    "scrolled": true
   },
   "outputs": [
    {
     "name": "stdout",
     "output_type": "stream",
     "text": [
      "537640.1731773447\n"
     ]
    }
   ],
   "source": [
    "print(regressor.intercept_)"
   ]
  },
  {
   "cell_type": "code",
   "execution_count": 66,
   "id": "580eac6f",
   "metadata": {},
   "outputs": [
    {
     "name": "stdout",
     "output_type": "stream",
     "text": [
      "[-32038.4549712   30879.9319924   82890.72488438   3911.75686088\n",
      "   2862.84132154  45577.06758803  41864.25566919  15074.52116974\n",
      " 111376.78757243  77186.57689502  26696.151391   -76180.09684416\n",
      "   8706.51196264 -29679.36861698  82473.12236036 -27549.74187729\n",
      "  11080.64906506  -9023.43362975]\n"
     ]
    }
   ],
   "source": [
    "print(regressor.coef_)"
   ]
  },
  {
   "cell_type": "markdown",
   "id": "5658541b",
   "metadata": {},
   "source": [
    "#### Evaluate Linear Regression & Check Overfit / Underfit"
   ]
  },
  {
   "cell_type": "code",
   "execution_count": 37,
   "id": "8bc4654f",
   "metadata": {},
   "outputs": [],
   "source": [
    "from sklearn.metrics import mean_absolute_error, mean_squared_error, mean_absolute_percentage_error, r2_score\n",
    "from sklearn.model_selection import cross_validate"
   ]
  },
  {
   "cell_type": "code",
   "execution_count": 38,
   "id": "044ec810",
   "metadata": {},
   "outputs": [],
   "source": [
    "def eval_regression(model):\n",
    "    y_pred = model.predict(X_test)\n",
    "    y_pred_train = model.predict(X_train)\n",
    "    \n",
    "    # Regression evaluation\n",
    "    print('RMSE(test): ', str(mean_squared_error(y_test, y_pred, squared=False)))\n",
    "    print('RMSE(train): ', str(mean_squared_error(y_train, y_pred_train, squared=False)))\n",
    "    \n",
    "    print('MAE(test): ', str(mean_absolute_error(y_test, y_pred)))\n",
    "    print('MAE(train): ', str(mean_absolute_error(y_train, y_pred_train)))\n",
    "    \n",
    "    print('MAPE(test):', str(mean_absolute_percentage_error(y_test, y_pred)))\n",
    "    print('MAPE(train):', str(mean_absolute_percentage_error(y_train, y_pred_train)))\n",
    "    \n",
    "    print('r2(test):', str(r2_score(y_test, y_pred)))\n",
    "    print('r2(train):', str(r2_score(y_train, y_pred_train)))\n",
    "    \n",
    "    # k-fold cross validation\n",
    "    score = cross_validate(model, X, y, cv=5, scoring='r2', return_train_score=True)\n",
    "    print('r2_cross_val_test: ', str(score['test_score'].mean()))\n",
    "    print('r2_cross_val_train:', str(score['train_score'].mean()))"
   ]
  },
  {
   "cell_type": "code",
   "execution_count": 72,
   "id": "6fee69d1",
   "metadata": {},
   "outputs": [
    {
     "name": "stdout",
     "output_type": "stream",
     "text": [
      "RMSE(test):  208296.7277211889\n",
      "RMSE(train):  198133.94425362692\n",
      "MAE(test):  127486.80255718411\n",
      "MAE(train):  124691.93980379181\n",
      "MAPE(test): 0.253044843464385\n",
      "MAPE(train): 0.2544052061162715\n",
      "r2(test): 0.6994627057969898\n",
      "r2(train): 0.6995155846436756\n",
      "r2_cross_val_test:  0.6945908283283323\n",
      "r2_cross_val_train: 0.7002121455769499\n"
     ]
    }
   ],
   "source": [
    "eval_regression(regressor)"
   ]
  },
  {
   "cell_type": "markdown",
   "id": "e6a58fda",
   "metadata": {},
   "source": [
    "r2 score antara data train & data test tidak jauh, sehingga model tidak overfit"
   ]
  },
  {
   "cell_type": "markdown",
   "id": "f5650cd1",
   "metadata": {},
   "source": [
    "#### Regularization - Ridge\n",
    "Regularization is used when the model overfitting"
   ]
  },
  {
   "cell_type": "code",
   "execution_count": 73,
   "id": "5a3d6021",
   "metadata": {},
   "outputs": [
    {
     "name": "stdout",
     "output_type": "stream",
     "text": [
      "RMSE(test):  208297.15682452897\n",
      "RMSE(train):  198133.94497818153\n",
      "MAE(test):  127484.61053490912\n",
      "MAE(train):  124689.43205117159\n",
      "MAPE(test): 0.253037217591109\n",
      "MAPE(train): 0.2543966289357685\n",
      "r2(test): 0.6994614675472006\n",
      "r2(train): 0.6995155824459969\n",
      "r2_cross_val_test:  0.6945962843967509\n",
      "r2_cross_val_train: 0.7002101388236813\n"
     ]
    }
   ],
   "source": [
    "from sklearn.linear_model import Ridge\n",
    "\n",
    "ridge = Ridge()\n",
    "ridge.fit(X_train, y_train)\n",
    "eval_regression(ridge)"
   ]
  },
  {
   "cell_type": "markdown",
   "id": "7b3d8308",
   "metadata": {},
   "source": [
    "- Performa r2 score antara data train dan data testing tidak bertambah karena memang model awal tidak overfitting"
   ]
  },
  {
   "cell_type": "markdown",
   "id": "20294e96",
   "metadata": {},
   "source": [
    "#### Hyperparameter Tuning - Ridge\n",
    "Hyperparameter yang biasa di tuning pada Ridge Regression: https://scikit-learn.org/stable/modules/generated/sklearn.linear_model.Ridge.html\n",
    "\n",
    "\n",
    "\n",
    "*   alpha: nilai/koefisien regularization\n",
    "*   solver: metode bagaimana kita melakukan update pada variable di ridge regression (slope/intercept): sag/saga lebih cocok jika data dalam jumlah besar\n",
    "    *   {‘auto’, ‘svd’, ‘cholesky’, ‘lsqr’, ‘sparse_cg’, ‘sag’, ‘saga’}"
   ]
  },
  {
   "cell_type": "code",
   "execution_count": 76,
   "id": "1aa1d4d3",
   "metadata": {},
   "outputs": [
    {
     "name": "stdout",
     "output_type": "stream",
     "text": [
      "RMSE(test):  208297.49288255107\n",
      "RMSE(train):  198133.95514706842\n",
      "MAE(test):  127488.65079387277\n",
      "MAE(train):  124693.64933905784\n",
      "MAPE(test): 0.253045420578702\n",
      "MAPE(train): 0.2544070650133533\n",
      "r2(test): 0.6994604977935295\n",
      "r2(train): 0.6995155516022953\n",
      "r2_cross_val_test:  0.6945905841820409\n",
      "r2_cross_val_train: 0.7002121454200837\n"
     ]
    }
   ],
   "source": [
    "from sklearn.model_selection import RandomizedSearchCV, GridSearchCV\n",
    "from sklearn.linear_model import Ridge\n",
    "\n",
    "# list hyperparameter\n",
    "alpha = [0.001, 0.01] #lambda\n",
    "solver = ['auto', 'cholesky', 'lsqr']\n",
    "hyperparameter = dict(alpha=alpha, solver=solver)\n",
    "\n",
    "# Fit model\n",
    "ridge = Ridge()\n",
    "rs = RandomizedSearchCV(ridge, hyperparameter, cv=5, scoring='r2', random_state=42)\n",
    "rs.fit(X_train, y_train)\n",
    "eval_regression(rs)"
   ]
  },
  {
   "cell_type": "markdown",
   "id": "726fe6b8",
   "metadata": {},
   "source": [
    "- Performa r2 score antara data train dan data testing tidak bertambah karena memang model awal tidak overfitting"
   ]
  },
  {
   "cell_type": "markdown",
   "id": "73edd482",
   "metadata": {},
   "source": [
    "#### Regularization - Lasso"
   ]
  },
  {
   "cell_type": "code",
   "execution_count": 77,
   "id": "90c0bc73",
   "metadata": {},
   "outputs": [
    {
     "name": "stdout",
     "output_type": "stream",
     "text": [
      "RMSE(test):  208297.0431786377\n",
      "RMSE(train):  198133.94435967132\n",
      "MAE(test):  127486.94343744939\n",
      "MAE(train):  124691.9051486506\n",
      "MAPE(test): 0.2530444631260527\n",
      "MAPE(train): 0.25440451361384153\n",
      "r2(test): 0.6994617954917639\n",
      "r2(train): 0.6995155843220275\n",
      "r2_cross_val_test:  0.6945907597845118\n",
      "r2_cross_val_train: 0.7002121432656129\n"
     ]
    }
   ],
   "source": [
    "from sklearn.linear_model import Lasso\n",
    "\n",
    "lasso = Lasso()\n",
    "lasso.fit(X_train, y_train)\n",
    "eval_regression(lasso)"
   ]
  },
  {
   "cell_type": "markdown",
   "id": "df78f819",
   "metadata": {},
   "source": [
    "#### Hyperparameter Tuning - Lasso\n",
    "<b>Hyperparameter yang biasa di tuning pada Lasso Regression:</b> https://scikit-learn.org/stable/modules/generated/sklearn.linear_model.Lasso.html\n",
    "- alpha: nilai/koefisien regularization\n",
    "- solver: {‘cyclic’, ‘random’}"
   ]
  },
  {
   "cell_type": "code",
   "execution_count": 78,
   "id": "6d7e12a1",
   "metadata": {},
   "outputs": [
    {
     "name": "stdout",
     "output_type": "stream",
     "text": [
      "RMSE(test):  208296.7340971469\n",
      "RMSE(train):  198133.9442536644\n",
      "MAE(test):  127486.79431780425\n",
      "MAE(train):  124691.92758182276\n",
      "MAPE(test): 0.2530448043265691\n",
      "MAPE(train): 0.25440515842635597\n",
      "r2(test): 0.6994626873981102\n",
      "r2(train): 0.6995155846435619\n",
      "r2_cross_val_test:  0.6945908212195182\n",
      "r2_cross_val_train: 0.7002121455757835\n"
     ]
    }
   ],
   "source": [
    "from sklearn.model_selection import RandomizedSearchCV\n",
    "\n",
    "# list hyperparameter\n",
    "alpha = [0.02, 0.024, 0.025, 0.026, 0.03] # lambda\n",
    "selection = ['cyclic', 'random']\n",
    "hyperparameter = dict(alpha=alpha, selection=selection)\n",
    "\n",
    "# Fit model\n",
    "lasso = Lasso()\n",
    "lasso.fit(X_train, y_train)\n",
    "\n",
    "clf = RandomizedSearchCV(lasso, hyperparameter, cv=5, scoring='r2', random_state=42)\n",
    "clf.fit(X_train, y_train)\n",
    "\n",
    "eval_regression(clf)"
   ]
  },
  {
   "cell_type": "markdown",
   "id": "6ca79da1",
   "metadata": {},
   "source": [
    "#### Regularization - Elastic Net"
   ]
  },
  {
   "cell_type": "code",
   "execution_count": 79,
   "id": "36cfbb26",
   "metadata": {},
   "outputs": [
    {
     "name": "stdout",
     "output_type": "stream",
     "text": [
      "RMSE(test):  220530.5625657702\n",
      "RMSE(train):  208358.60493933616\n",
      "MAE(test):  127267.04211549833\n",
      "MAE(train):  123407.88534671163\n",
      "MAPE(test): 0.24397698969804088\n",
      "MAPE(train): 0.2437392712920618\n",
      "r2(test): 0.6631232427080052\n",
      "r2(train): 0.6677025076875247\n",
      "r2_cross_val_test:  0.613363859740591\n",
      "r2_cross_val_train: 0.6206863574321764\n"
     ]
    }
   ],
   "source": [
    "from sklearn.linear_model import ElasticNet\n",
    "elasticnet_model = ElasticNet()\n",
    "elasticnet_model.fit(X_train, y_train)\n",
    "eval_regression(elasticnet_model)"
   ]
  },
  {
   "cell_type": "markdown",
   "id": "d7f65b33",
   "metadata": {},
   "source": [
    "#### Hyperparameter Tuning - Elastic Net\n",
    "<b>Hyperparameter yang biasa di tuning pada Elastic Net:</b> https://scikit-learn.org/stable/modules/generated/sklearn.linear_model.ElasticNet.html\n",
    "- alpha: nilai/koefisien regularization\n",
    "- solver: {‘cyclic’, ‘random’}\n",
    "- l1_ratio: rasio dari penggunaan l1 norm (lasso). default: 0.5\n",
    "    - jika l1_ratio == 1, maka sepenuhnya menggunakan l1 norm\n",
    "    - jika l1_ratio == 0, maka sepenuhnya menggunakan l2 norm"
   ]
  },
  {
   "cell_type": "code",
   "execution_count": 83,
   "id": "bd57ae74",
   "metadata": {},
   "outputs": [
    {
     "name": "stdout",
     "output_type": "stream",
     "text": [
      "RMSE(test):  208336.18637799623\n",
      "RMSE(train):  198138.64077960985\n",
      "MAE(test):  127312.98799597332\n",
      "MAE(train):  124492.9988940525\n",
      "MAPE(test): 0.2524345745714093\n",
      "MAPE(train): 0.2537226595568789\n",
      "r2(test): 0.6993488305449467\n",
      "r2(train): 0.6995013392341342\n",
      "r2_cross_val_test:  0.6945911223495356\n",
      "r2_cross_val_train: 0.7002121375479355\n"
     ]
    }
   ],
   "source": [
    "from sklearn.model_selection import RandomizedSearchCV\n",
    "from sklearn.linear_model import ElasticNet\n",
    "\n",
    "# List hyperparameter\n",
    "alpha = [1e-5, 1e-4, 1e-3, 1e-2, 1e-1, 1.0, 10.0, 100.0]\n",
    "l1_ratio = np.arange(0,1, 0.01)\n",
    "hyperparameter = dict(alpha=alpha, l1_ratio=l1_ratio)\n",
    "\n",
    "# Fit model\n",
    "elasticnet_model = ElasticNet()\n",
    "clf = RandomizedSearchCV(elasticnet_model, hyperparameter, cv=5, scoring='r2', random_state=42)\n",
    "clf.fit(X_train, y_train)\n",
    "eval_regression(clf)"
   ]
  },
  {
   "cell_type": "markdown",
   "id": "d7ab1fbc",
   "metadata": {},
   "source": [
    "### Modelling (Non - Linear Algorithm)"
   ]
  },
  {
   "cell_type": "markdown",
   "id": "2a3d3910",
   "metadata": {},
   "source": [
    "#### Decision Tree"
   ]
  },
  {
   "cell_type": "code",
   "execution_count": 39,
   "id": "62020cbb",
   "metadata": {},
   "outputs": [
    {
     "name": "stdout",
     "output_type": "stream",
     "text": [
      "RMSE(test):  189633.79511914024\n",
      "RMSE(train):  9137.180211708137\n",
      "MAE(test):  101170.3302745219\n",
      "MAE(train):  816.7865688412982\n",
      "MAPE(test): 0.18480228261052892\n",
      "MAPE(train): 0.0026706988322656227\n",
      "r2(test): 0.750905034195142\n",
      "r2(train): 0.9993609592350591\n",
      "r2_cross_val_test:  0.7612669556611177\n",
      "r2_cross_val_train: 0.9991347501667762\n"
     ]
    }
   ],
   "source": [
    "from sklearn.tree import DecisionTreeRegressor\n",
    "\n",
    "dt = DecisionTreeRegressor()\n",
    "dt.fit(X_train, y_train)\n",
    "eval_regression(dt)"
   ]
  },
  {
   "cell_type": "markdown",
   "id": "0c595d71",
   "metadata": {},
   "source": [
    "#### Random Forest"
   ]
  },
  {
   "cell_type": "code",
   "execution_count": 40,
   "id": "3a42aaed",
   "metadata": {},
   "outputs": [
    {
     "name": "stdout",
     "output_type": "stream",
     "text": [
      "RMSE(test):  142110.45398792668\n",
      "RMSE(train):  47371.0144645684\n",
      "MAE(test):  73463.90180382847\n",
      "MAE(train):  26002.684574772826\n",
      "MAPE(test): 0.13491191992457865\n",
      "MAPE(train): 0.04965680477338992\n",
      "r2(test): 0.8601103669293602\n",
      "r2(train): 0.9828237025367299\n",
      "r2_cross_val_test:  0.8766472457417315\n",
      "r2_cross_val_train: 0.9820925196775729\n"
     ]
    }
   ],
   "source": [
    "from sklearn.ensemble import RandomForestRegressor\n",
    "\n",
    "rf = RandomForestRegressor()\n",
    "rf.fit(X_train, y_train)\n",
    "eval_regression(rf)"
   ]
  },
  {
   "cell_type": "markdown",
   "id": "739a6623",
   "metadata": {},
   "source": [
    "#### Suppor Vector Regressor (SVR)"
   ]
  },
  {
   "cell_type": "code",
   "execution_count": 41,
   "id": "92e2e5d1",
   "metadata": {},
   "outputs": [
    {
     "name": "stdout",
     "output_type": "stream",
     "text": [
      "RMSE(test):  391421.85783274577\n",
      "RMSE(train):  371482.2175986222\n",
      "MAE(test):  226421.53541898789\n",
      "MAE(train):  219221.8171347536\n",
      "MAPE(test): 0.4247506825633978\n",
      "MAPE(train): 0.4239883151875342\n",
      "r2(test): -0.061264471033486645\n",
      "r2(train): -0.056282879890371174\n",
      "r2_cross_val_test:  -0.06219227652952619\n",
      "r2_cross_val_train: -0.06041294000878672\n"
     ]
    }
   ],
   "source": [
    "from sklearn.svm import SVR\n",
    "\n",
    "svr = SVR()\n",
    "svr.fit(X_train, y_train)\n",
    "eval_regression(svr)"
   ]
  },
  {
   "cell_type": "markdown",
   "id": "dbffeeeb",
   "metadata": {},
   "source": [
    "- R2 = 1: Indicates that the model explains 100% of the variance in the target variable.\n",
    "- R2 = 0: Indicates that the model does not explain any of the variance in the target variable (it performs as poorly as a horizontal line).\n",
    "- R2 < 0: Indicates that the model performs even worse than a horizontal line, suggesting that it is capturing less information than a simple mean."
   ]
  },
  {
   "cell_type": "markdown",
   "id": "0466b8b3",
   "metadata": {},
   "source": [
    "Conclusion :\n",
    "- The model selected for house price prediction is using Linear Regression, because r2 score training data (0.6994) is having no big gap with testing data (0.6995).\n",
    "- There is no indicate overfitting because r2 score training data > r2 score testing data"
   ]
  },
  {
   "cell_type": "markdown",
   "id": "8cf0918f",
   "metadata": {},
   "source": [
    "## House Prediction using Best Model"
   ]
  },
  {
   "cell_type": "code",
   "execution_count": 42,
   "id": "77ac75ca",
   "metadata": {},
   "outputs": [],
   "source": [
    "from sklearn.linear_model import LinearRegression\n",
    "\n",
    "regressor = LinearRegression()\n",
    "regressor.fit(X_train, y_train)\n",
    "y_pred = regressor.predict(X_test)"
   ]
  },
  {
   "cell_type": "code",
   "execution_count": 44,
   "id": "15ebaaf3",
   "metadata": {},
   "outputs": [
    {
     "data": {
      "text/plain": [
       "array([ 458597.06764176,  748993.7599484 , 1243303.75799084,\n",
       "       1665116.95095478,  737302.05741759])"
      ]
     },
     "execution_count": 44,
     "metadata": {},
     "output_type": "execute_result"
    }
   ],
   "source": [
    "y_pred[:5]"
   ]
  },
  {
   "cell_type": "code",
   "execution_count": 45,
   "id": "112a408e",
   "metadata": {},
   "outputs": [],
   "source": [
    "# Compare Actual Prices and Predictions\n",
    "result_df = pd.DataFrame({'Actual Price': y_test, 'Prediction Price': y_pred})"
   ]
  },
  {
   "cell_type": "code",
   "execution_count": 49,
   "id": "77e44572",
   "metadata": {},
   "outputs": [],
   "source": [
    "result_df.reset_index(inplace=True)"
   ]
  },
  {
   "cell_type": "code",
   "execution_count": 52,
   "id": "eb928017",
   "metadata": {},
   "outputs": [],
   "source": [
    "result_df = result_df.drop(columns=['index'])"
   ]
  },
  {
   "cell_type": "code",
   "execution_count": 53,
   "id": "adaa795f",
   "metadata": {
    "scrolled": true
   },
   "outputs": [
    {
     "data": {
      "text/html": [
       "<div>\n",
       "<style scoped>\n",
       "    .dataframe tbody tr th:only-of-type {\n",
       "        vertical-align: middle;\n",
       "    }\n",
       "\n",
       "    .dataframe tbody tr th {\n",
       "        vertical-align: top;\n",
       "    }\n",
       "\n",
       "    .dataframe thead th {\n",
       "        text-align: right;\n",
       "    }\n",
       "</style>\n",
       "<table border=\"1\" class=\"dataframe\">\n",
       "  <thead>\n",
       "    <tr style=\"text-align: right;\">\n",
       "      <th></th>\n",
       "      <th>Actual Price</th>\n",
       "      <th>Prediction Price</th>\n",
       "    </tr>\n",
       "  </thead>\n",
       "  <tbody>\n",
       "    <tr>\n",
       "      <th>0</th>\n",
       "      <td>365000.00</td>\n",
       "      <td>458597.07</td>\n",
       "    </tr>\n",
       "    <tr>\n",
       "      <th>1</th>\n",
       "      <td>865000.00</td>\n",
       "      <td>748993.76</td>\n",
       "    </tr>\n",
       "    <tr>\n",
       "      <th>2</th>\n",
       "      <td>1038000.00</td>\n",
       "      <td>1243303.76</td>\n",
       "    </tr>\n",
       "    <tr>\n",
       "      <th>3</th>\n",
       "      <td>1490000.00</td>\n",
       "      <td>1665116.95</td>\n",
       "    </tr>\n",
       "    <tr>\n",
       "      <th>4</th>\n",
       "      <td>711000.00</td>\n",
       "      <td>737302.06</td>\n",
       "    </tr>\n",
       "  </tbody>\n",
       "</table>\n",
       "</div>"
      ],
      "text/plain": [
       "   Actual Price  Prediction Price\n",
       "0     365000.00         458597.07\n",
       "1     865000.00         748993.76\n",
       "2    1038000.00        1243303.76\n",
       "3    1490000.00        1665116.95\n",
       "4     711000.00         737302.06"
      ]
     },
     "execution_count": 53,
     "metadata": {},
     "output_type": "execute_result"
    }
   ],
   "source": [
    "result_df.head()"
   ]
  },
  {
   "cell_type": "markdown",
   "id": "c8ed9306",
   "metadata": {},
   "source": [
    "## Feature Importance of Linear Regression\n",
    "- Linear regression models don't inherently provide feature importances like tree-based models do. \n",
    "- In the case of linear regression, the **importance of each feature** is determined by its **coefficient value**."
   ]
  },
  {
   "cell_type": "code",
   "execution_count": 74,
   "id": "b8d2618f",
   "metadata": {},
   "outputs": [],
   "source": [
    "coefficient = regressor.coef_\n",
    "feature_name = X_train.columns\n",
    "\n",
    "feature_importance_df = pd.DataFrame({'Coefficient':coefficient, 'Feature Name':feature_name})\n",
    "feature_importance_df = feature_importance_df.sort_values(by=('Coefficient'), ascending=False)"
   ]
  },
  {
   "cell_type": "code",
   "execution_count": 76,
   "id": "c9370eda",
   "metadata": {},
   "outputs": [],
   "source": [
    "feature_importance_df.reset_index(inplace=True)"
   ]
  },
  {
   "cell_type": "code",
   "execution_count": 78,
   "id": "cbfc6465",
   "metadata": {
    "scrolled": true
   },
   "outputs": [],
   "source": [
    "feature_importance_df = feature_importance_df.drop(columns=['index'])"
   ]
  },
  {
   "cell_type": "code",
   "execution_count": 79,
   "id": "66906143",
   "metadata": {},
   "outputs": [
    {
     "data": {
      "text/html": [
       "<div>\n",
       "<style scoped>\n",
       "    .dataframe tbody tr th:only-of-type {\n",
       "        vertical-align: middle;\n",
       "    }\n",
       "\n",
       "    .dataframe tbody tr th {\n",
       "        vertical-align: top;\n",
       "    }\n",
       "\n",
       "    .dataframe thead th {\n",
       "        text-align: right;\n",
       "    }\n",
       "</style>\n",
       "<table border=\"1\" class=\"dataframe\">\n",
       "  <thead>\n",
       "    <tr style=\"text-align: right;\">\n",
       "      <th></th>\n",
       "      <th>Coefficient</th>\n",
       "      <th>Feature Name</th>\n",
       "    </tr>\n",
       "  </thead>\n",
       "  <tbody>\n",
       "    <tr>\n",
       "      <th>0</th>\n",
       "      <td>111376.79</td>\n",
       "      <td>grade</td>\n",
       "    </tr>\n",
       "    <tr>\n",
       "      <th>1</th>\n",
       "      <td>82890.72</td>\n",
       "      <td>sqft_living</td>\n",
       "    </tr>\n",
       "    <tr>\n",
       "      <th>2</th>\n",
       "      <td>82473.12</td>\n",
       "      <td>lat</td>\n",
       "    </tr>\n",
       "    <tr>\n",
       "      <th>3</th>\n",
       "      <td>77186.58</td>\n",
       "      <td>sqft_above</td>\n",
       "    </tr>\n",
       "    <tr>\n",
       "      <th>4</th>\n",
       "      <td>45577.07</td>\n",
       "      <td>waterfront</td>\n",
       "    </tr>\n",
       "    <tr>\n",
       "      <th>5</th>\n",
       "      <td>41864.26</td>\n",
       "      <td>view</td>\n",
       "    </tr>\n",
       "    <tr>\n",
       "      <th>6</th>\n",
       "      <td>30879.93</td>\n",
       "      <td>bathrooms</td>\n",
       "    </tr>\n",
       "    <tr>\n",
       "      <th>7</th>\n",
       "      <td>26696.15</td>\n",
       "      <td>sqft_basement</td>\n",
       "    </tr>\n",
       "    <tr>\n",
       "      <th>8</th>\n",
       "      <td>15074.52</td>\n",
       "      <td>condition</td>\n",
       "    </tr>\n",
       "    <tr>\n",
       "      <th>9</th>\n",
       "      <td>11080.65</td>\n",
       "      <td>sqft_living15</td>\n",
       "    </tr>\n",
       "    <tr>\n",
       "      <th>10</th>\n",
       "      <td>8706.51</td>\n",
       "      <td>yr_renovated</td>\n",
       "    </tr>\n",
       "    <tr>\n",
       "      <th>11</th>\n",
       "      <td>3911.76</td>\n",
       "      <td>sqft_lot</td>\n",
       "    </tr>\n",
       "    <tr>\n",
       "      <th>12</th>\n",
       "      <td>2862.84</td>\n",
       "      <td>floors</td>\n",
       "    </tr>\n",
       "    <tr>\n",
       "      <th>13</th>\n",
       "      <td>-9023.43</td>\n",
       "      <td>sqft_lot15</td>\n",
       "    </tr>\n",
       "    <tr>\n",
       "      <th>14</th>\n",
       "      <td>-27549.74</td>\n",
       "      <td>long</td>\n",
       "    </tr>\n",
       "    <tr>\n",
       "      <th>15</th>\n",
       "      <td>-29679.37</td>\n",
       "      <td>zipcode</td>\n",
       "    </tr>\n",
       "    <tr>\n",
       "      <th>16</th>\n",
       "      <td>-32038.45</td>\n",
       "      <td>bedrooms</td>\n",
       "    </tr>\n",
       "    <tr>\n",
       "      <th>17</th>\n",
       "      <td>-76180.10</td>\n",
       "      <td>yr_built</td>\n",
       "    </tr>\n",
       "  </tbody>\n",
       "</table>\n",
       "</div>"
      ],
      "text/plain": [
       "    Coefficient   Feature Name\n",
       "0     111376.79          grade\n",
       "1      82890.72    sqft_living\n",
       "2      82473.12            lat\n",
       "3      77186.58     sqft_above\n",
       "4      45577.07     waterfront\n",
       "5      41864.26           view\n",
       "6      30879.93      bathrooms\n",
       "7      26696.15  sqft_basement\n",
       "8      15074.52      condition\n",
       "9      11080.65  sqft_living15\n",
       "10      8706.51   yr_renovated\n",
       "11      3911.76       sqft_lot\n",
       "12      2862.84         floors\n",
       "13     -9023.43     sqft_lot15\n",
       "14    -27549.74           long\n",
       "15    -29679.37        zipcode\n",
       "16    -32038.45       bedrooms\n",
       "17    -76180.10       yr_built"
      ]
     },
     "execution_count": 79,
     "metadata": {},
     "output_type": "execute_result"
    }
   ],
   "source": [
    "feature_importance_df"
   ]
  },
  {
   "cell_type": "code",
   "execution_count": 83,
   "id": "064e7882",
   "metadata": {},
   "outputs": [
    {
     "data": {
      "image/png": "[encoded data removed]",
      "text/plain": [
       "<Figure size 640x480 with 1 Axes>"
      ]
     },
     "metadata": {},
     "output_type": "display_data"
    }
   ],
   "source": [
    "top_n = 10\n",
    "top_features = feature_importance_df.head(top_n)\n",
    "top_features = top_features.sort_values(by=['Coefficient'], ascending=True)\n",
    "\n",
    "plt.barh(top_features['Feature Name'], top_features['Coefficient'], color='plum')\n",
    "plt.xlabel('Coefficient')\n",
    "plt.ylabel('Features')\n",
    "plt.title('Top Feature Coefficients (Importance)\\n')\n",
    "plt.show()"
   ]
  },
  {
   "cell_type": "code",
   "execution_count": 84,
   "id": "e2edddb0",
   "metadata": {},
   "outputs": [],
   "source": [
    "feature_importance_df_list = feature_importance_df['Feature Name'].to_list()"
   ]
  },
  {
   "cell_type": "code",
   "execution_count": 85,
   "id": "768f899b",
   "metadata": {},
   "outputs": [
    {
     "data": {
      "text/plain": [
       "['grade',\n",
       " 'sqft_living',\n",
       " 'lat',\n",
       " 'sqft_above',\n",
       " 'waterfront',\n",
       " 'view',\n",
       " 'bathrooms',\n",
       " 'sqft_basement',\n",
       " 'condition',\n",
       " 'sqft_living15',\n",
       " 'yr_renovated',\n",
       " 'sqft_lot',\n",
       " 'floors',\n",
       " 'sqft_lot15',\n",
       " 'long',\n",
       " 'zipcode',\n",
       " 'bedrooms',\n",
       " 'yr_built']"
      ]
     },
     "execution_count": 85,
     "metadata": {},
     "output_type": "execute_result"
    }
   ],
   "source": [
    "feature_importance_df_list"
   ]
  },
  {
   "cell_type": "markdown",
   "id": "fe985d38",
   "metadata": {},
   "source": [
    "**Conclusion :**\n",
    "  \n",
    " Top 10 of features that have the most significant impact on the predicted target variable :\n",
    "1. 'grade',\n",
    "2. 'sqft_living',\n",
    "3. 'lat',\n",
    "4. 'sqft_above',\n",
    "5. 'waterfront',\n",
    "6. 'view',\n",
    "7. 'bathrooms',\n",
    "8. 'sqft_basement',\n",
    "9. 'condition',\n",
    "10. 'sqft_living15',"
   ]
  },
  {
   "cell_type": "code",
   "execution_count": 86,
   "id": "910e1193",
   "metadata": {},
   "outputs": [
    {
     "data": {
      "text/html": [
       "<div>\n",
       "<style scoped>\n",
       "    .dataframe tbody tr th:only-of-type {\n",
       "        vertical-align: middle;\n",
       "    }\n",
       "\n",
       "    .dataframe tbody tr th {\n",
       "        vertical-align: top;\n",
       "    }\n",
       "\n",
       "    .dataframe thead th {\n",
       "        text-align: right;\n",
       "    }\n",
       "</style>\n",
       "<table border=\"1\" class=\"dataframe\">\n",
       "  <thead>\n",
       "    <tr style=\"text-align: right;\">\n",
       "      <th></th>\n",
       "      <th>bedrooms</th>\n",
       "      <th>bathrooms</th>\n",
       "      <th>sqft_living</th>\n",
       "      <th>sqft_lot</th>\n",
       "      <th>floors</th>\n",
       "      <th>waterfront</th>\n",
       "      <th>view</th>\n",
       "      <th>condition</th>\n",
       "      <th>grade</th>\n",
       "      <th>sqft_above</th>\n",
       "      <th>sqft_basement</th>\n",
       "      <th>yr_built</th>\n",
       "      <th>yr_renovated</th>\n",
       "      <th>zipcode</th>\n",
       "      <th>lat</th>\n",
       "      <th>long</th>\n",
       "      <th>sqft_living15</th>\n",
       "      <th>sqft_lot15</th>\n",
       "    </tr>\n",
       "  </thead>\n",
       "  <tbody>\n",
       "    <tr>\n",
       "      <th>0</th>\n",
       "      <td>3</td>\n",
       "      <td>1.00</td>\n",
       "      <td>1180</td>\n",
       "      <td>5650</td>\n",
       "      <td>1.00</td>\n",
       "      <td>0</td>\n",
       "      <td>0</td>\n",
       "      <td>3</td>\n",
       "      <td>7</td>\n",
       "      <td>1180</td>\n",
       "      <td>0</td>\n",
       "      <td>1955</td>\n",
       "      <td>0</td>\n",
       "      <td>98178</td>\n",
       "      <td>47.51</td>\n",
       "      <td>-122.26</td>\n",
       "      <td>1340</td>\n",
       "      <td>5650</td>\n",
       "    </tr>\n",
       "    <tr>\n",
       "      <th>1</th>\n",
       "      <td>3</td>\n",
       "      <td>2.25</td>\n",
       "      <td>2570</td>\n",
       "      <td>7242</td>\n",
       "      <td>2.00</td>\n",
       "      <td>0</td>\n",
       "      <td>0</td>\n",
       "      <td>3</td>\n",
       "      <td>7</td>\n",
       "      <td>2170</td>\n",
       "      <td>400</td>\n",
       "      <td>1951</td>\n",
       "      <td>1991</td>\n",
       "      <td>98125</td>\n",
       "      <td>47.72</td>\n",
       "      <td>-122.32</td>\n",
       "      <td>1690</td>\n",
       "      <td>7639</td>\n",
       "    </tr>\n",
       "  </tbody>\n",
       "</table>\n",
       "</div>"
      ],
      "text/plain": [
       "   bedrooms  bathrooms  sqft_living  sqft_lot  floors  waterfront  view  \\\n",
       "0         3       1.00         1180      5650    1.00           0     0   \n",
       "1         3       2.25         2570      7242    2.00           0     0   \n",
       "\n",
       "   condition  grade  sqft_above  sqft_basement  yr_built  yr_renovated  \\\n",
       "0          3      7        1180              0      1955             0   \n",
       "1          3      7        2170            400      1951          1991   \n",
       "\n",
       "   zipcode   lat    long  sqft_living15  sqft_lot15  \n",
       "0    98178 47.51 -122.26           1340        5650  \n",
       "1    98125 47.72 -122.32           1690        7639  "
      ]
     },
     "execution_count": 86,
     "metadata": {},
     "output_type": "execute_result"
    }
   ],
   "source": [
    "X.head(2)"
   ]
  },
  {
   "cell_type": "code",
   "execution_count": null,
   "id": "5d09f408",
   "metadata": {},
   "outputs": [],
   "source": []
  }
 ],
 "metadata": {
  "kernelspec": {
   "display_name": "Python 3 (ipykernel)",
   "language": "python",
   "name": "python3"
  },
  "language_info": {
   "codemirror_mode": {
    "name": "ipython",
    "version": 3
   },
   "file_extension": ".py",
   "mimetype": "text/x-python",
   "name": "python",
   "nbconvert_exporter": "python",
   "pygments_lexer": "ipython3",
   "version": "3.11.4"
  }
 },
 "nbformat": 4,
 "nbformat_minor": 5
}
